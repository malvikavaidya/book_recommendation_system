{
 "cells": [
  {
   "cell_type": "code",
   "execution_count": 394,
   "metadata": {},
   "outputs": [
    {
     "name": "stderr",
     "output_type": "stream",
     "text": [
      "/var/folders/c7/cnkrdqk12hj7hh7h82qw9xg80000gn/T/ipykernel_2475/1805676031.py:11: DeprecationWarning: executable_path has been deprecated, please pass in a Service object\n",
      "  driver = webdriver.Chrome(\"/usr/lib/chromium-browser/chromedriver\", chrome_options=options)\n",
      "/var/folders/c7/cnkrdqk12hj7hh7h82qw9xg80000gn/T/ipykernel_2475/1805676031.py:11: DeprecationWarning: use options instead of chrome_options\n",
      "  driver = webdriver.Chrome(\"/usr/lib/chromium-browser/chromedriver\", chrome_options=options)\n"
     ]
    }
   ],
   "source": [
    "from bs4 import BeautifulSoup\n",
    "import requests\n",
    "import time\n",
    "from urllib.request import urlopen, Request\n",
    "from selenium import webdriver\n",
    "\n",
    "options = webdriver.ChromeOptions()\n",
    "options.add_argument('--ignore-certificate-errors')\n",
    "options.add_argument('--incognito')\n",
    "options.add_argument('--headless')\n",
    "driver = webdriver.Chrome(\"/usr/lib/chromium-browser/chromedriver\", chrome_options=options)"
   ]
  },
  {
   "cell_type": "code",
   "execution_count": null,
   "metadata": {},
   "outputs": [],
   "source": [
    "import urllib.request\n",
    "\n",
    "headers = {'User-Agent': 'Mozilla/5.0'}\n",
    "\n",
    "book_titles = []\n",
    "book_descriptions = []\n",
    "book_genres = []\n",
    "book_authors = []\n",
    "\n",
    "place = 0\n",
    "\n",
    "page_link = \"https://www.goodreads.com/list/show/9.Best_Books_of_the_Decade_1980s?page=1\"\n",
    "driver.get(page_link)\n",
    "soup = BeautifulSoup(driver.page_source, 'html.parser')\n",
    "\n",
    "for i in range(50):\n",
    "    books = soup.find_all('a', class_='bookTitle')\n",
    "    for i in books:\n",
    "        link = \"https://goodreads.com\" + i['href']\n",
    "        time.sleep(2)\n",
    "        resp = requests.get(link, headers=headers)\n",
    "\n",
    "        book_soup = BeautifulSoup(resp.content, 'html.parser')\n",
    "        description = book_soup.find(class_=\"DetailsLayoutRightParagraph__widthConstrained\")\n",
    "        if description == None:\n",
    "            if book_soup.find(class_=\"readable stacked\") == None:\n",
    "                description = \"No description\"\n",
    "            else:\n",
    "                if book_soup.find(class_=\"readable stacked\").find('span', style=\"display:none\") == None:\n",
    "                    description = \"No description\"\n",
    "                    break \n",
    "                description = book_soup.find(class_=\"readable stacked\").find('span', style=\"display:none\").get_text()     \n",
    "        else:\n",
    "            description = description.text     \n",
    "        book_descriptions.append(description)\n",
    "        f2 = open(\"book_descriptions2.txt\", \"a\")\n",
    "        f2.write(str(place) + \" \" + description + \"\\n\" + \"\\n\")\n",
    "        f2.close() \n",
    "        book_title = book_soup.find(\"meta\", property=\"og:title\")\n",
    "        if book_title == None:\n",
    "            book_title = \"No title\"\n",
    "        else:\n",
    "            book_title = book_title.get('content')  \n",
    "        book_titles.append(book_title)\n",
    "        f = open(\"book_titles2.txt\", \"a\")\n",
    "        f.write(str(place) + \" \" + book_title + \"\\n\")\n",
    "        f.close() \n",
    "        genre_buttons = []\n",
    "        genre_buttons = book_soup.find_all(class_=\"actionLinkLite bookPageGenreLink\")\n",
    "        if(len(genre_buttons) == 0):\n",
    "            genre_buttons = book_soup.find_all(class_='BookPageMetadataSection__genreButton')\n",
    "        single_book_genres = []\n",
    "        genre_i = 0\n",
    "        f3 = open(\"book_genres2.txt\", \"a\")\n",
    "        f3.write(str(place) + \" \")\n",
    "        for j in genre_buttons:\n",
    "            if(genre_i == 5):\n",
    "                break\n",
    "            single_book_genres.append(j.text)\n",
    "            genre_i += 1\n",
    "            f3.write(j.text + \", \")\n",
    "        book_genres.append(single_book_genres) \n",
    "        f3.write(\"\\n\")\n",
    "        f3.close()\n",
    "        author_name = book_soup.find(class_=\"authorName\")\n",
    "        if author_name == None:\n",
    "            if book_soup.find(class_=\"ContributorLink__name\") == None:\n",
    "                author_name = \"No author\"\n",
    "                break\n",
    "            author_name = book_soup.find(class_=\"ContributorLink__name\").get_text()\n",
    "        else:\n",
    "            author_name = author_name.get_text()\n",
    "        book_authors.append(author_name)\n",
    "        f4 = open(\"book_authors2.txt\", \"a\")\n",
    "        f4.write(str(place) + \" \" + author_name + \"\\n\")\n",
    "        f4.close()\n",
    "        place += 1\n",
    "               \n",
    "    page_link = 'https://goodreads.com' + soup.find('a', class_='next_page').get('href')\n",
    "    driver.get(page_link)\n",
    "    soup = BeautifulSoup(driver.page_source, 'html.parser')\n",
    "    \n"
   ]
  },
  {
   "cell_type": "code",
   "execution_count": 47,
   "metadata": {},
   "outputs": [
    {
     "name": "stdout",
     "output_type": "stream",
     "text": [
      "5905\n"
     ]
    }
   ],
   "source": [
    "string_add = \"\"\n",
    "book_titles = []\n",
    "titles = open(\"book_titles2.txt\", \"r\")\n",
    "\n",
    "#book_titles\n",
    "while True:\n",
    "    line = titles.readline()\n",
    "  \n",
    "    if line == 'END':\n",
    "        break\n",
    "    if line == '\\n':\n",
    "        continue\n",
    "    \n",
    "    if line.split()[0].isdigit():\n",
    "        if string_add.strip() != \"\":\n",
    "            book_titles.append(string_add)\n",
    "        string_add = line.lstrip('0123456789').strip()\n",
    "    else:\n",
    "        string_add += line.strip()\n",
    "\n",
    "if string_add != \"\":\n",
    "    book_titles.append(string_add)     \n",
    "titles.close() \n",
    "print(len(book_titles))"
   ]
  },
  {
   "cell_type": "code",
   "execution_count": 83,
   "metadata": {},
   "outputs": [
    {
     "name": "stdout",
     "output_type": "stream",
     "text": [
      "5905\n"
     ]
    }
   ],
   "source": [
    "string_add = \"\"\n",
    "authors = open(\"book_authors2.txt\", \"r\")\n",
    "book_authors = []\n",
    "\n",
    "#book_authors\n",
    "while True:\n",
    "    line = authors.readline()\n",
    "  \n",
    "    if line == 'END':\n",
    "        break\n",
    "    if line == '\\n':\n",
    "        continue\n",
    "    \n",
    "    if line.split()[0].isdigit():\n",
    "        if string_add.strip()  != \"\":\n",
    "            book_authors.append(string_add)\n",
    "        string_add = line.lstrip('0123456789').strip()\n",
    "    else:\n",
    "        string_add += line.strip()\n",
    "\n",
    "if string_add != \"\":\n",
    "    book_authors.append(string_add)     \n",
    "authors.close() \n",
    "print(len(book_authors))"
   ]
  },
  {
   "cell_type": "code",
   "execution_count": 65,
   "metadata": {},
   "outputs": [
    {
     "name": "stdout",
     "output_type": "stream",
     "text": [
      "5905\n"
     ]
    }
   ],
   "source": [
    "string_add = \"\"\n",
    "descriptions = open(\"book_descriptions2.txt\", \"r\")\n",
    "book_descriptions = []\n",
    "idx = 0\n",
    "#book_descriptions\n",
    "while True:\n",
    "    line = descriptions.readline()\n",
    "    if line == '' or line == \"END\":\n",
    "        break\n",
    "    if line == '\\n':\n",
    "        continue\n",
    "    \n",
    "    if line.split()[0].isdigit():\n",
    "        if string_add != \"\":\n",
    "            book_descriptions.append(string_add)\n",
    "        string_add = line.lstrip('0123456789').strip()\n",
    "    else:\n",
    "        string_add += line.strip()\n",
    "\n",
    "if string_add != \"\":\n",
    "    book_descriptions.append(string_add)     \n",
    "descriptions.close() \n",
    "print(len(book_descriptions))   \n"
   ]
  },
  {
   "cell_type": "code",
   "execution_count": 81,
   "metadata": {},
   "outputs": [
    {
     "name": "stdout",
     "output_type": "stream",
     "text": [
      "5905\n"
     ]
    }
   ],
   "source": [
    "string_add = \"\"\n",
    "genres = open(\"book_genres2.txt\", \"r\")\n",
    "book_genres = []\n",
    "\n",
    "#book_genres\n",
    "while True:\n",
    "    line = genres.readline()\n",
    "    if line == \"END\":\n",
    "        break\n",
    "    if line == '\\n':\n",
    "        continue\n",
    "    \n",
    "    if line.split()[0].isdigit():\n",
    "        string_add = line.lstrip('0123456789').strip().rstrip(',')\n",
    "        if string_add == \"\":\n",
    "            string_add = \"No genre\"\n",
    "        book_genres.append(string_add.split(', '))\n",
    "        \n",
    "genres.close() \n",
    "print(len(book_genres))\n"
   ]
  },
  {
   "cell_type": "code",
   "execution_count": 105,
   "metadata": {},
   "outputs": [
    {
     "name": "stdout",
     "output_type": "stream",
     "text": [
      "5605\n",
      "5605\n",
      "5605\n",
      "5605\n"
     ]
    }
   ],
   "source": [
    "#get rid of no genre and no description\n",
    "\n",
    "indexes = []\n",
    "\n",
    "for i in range(len(book_genres)):\n",
    "    if book_genres[i][0] == 'No genre':\n",
    "        indexes.append(i)\n",
    "for i in range(len(book_descriptions)):\n",
    "    if book_descriptions[i] == \"No description\":\n",
    "        indexes.append(i)\n",
    "res = [*set(indexes)]\n",
    "\n",
    "book_genres_cleaned = []\n",
    "book_descriptions_cleaned = []\n",
    "book_authors_cleaned = []\n",
    "book_titles_cleaned = []\n",
    "\n",
    "for i in range(len(book_genres)):\n",
    "    if i not in res:\n",
    "        book_genres_cleaned.append(book_genres[i])\n",
    "        book_descriptions_cleaned.append(book_descriptions[i])\n",
    "        book_authors_cleaned.append(book_authors[i])\n",
    "        book_titles_cleaned.append(book_titles[i])\n",
    "\n",
    "print(len(book_genres_cleaned))\n",
    "print(len(book_descriptions_cleaned))\n",
    "print(len(book_authors_cleaned))\n",
    "print(len(book_titles_cleaned))"
   ]
  }
 ],
 "metadata": {
  "kernelspec": {
   "display_name": "Python 3.10.2 64-bit",
   "language": "python",
   "name": "python3"
  },
  "language_info": {
   "codemirror_mode": {
    "name": "ipython",
    "version": 3
   },
   "file_extension": ".py",
   "mimetype": "text/x-python",
   "name": "python",
   "nbconvert_exporter": "python",
   "pygments_lexer": "ipython3",
   "version": "3.10.2"
  },
  "orig_nbformat": 4,
  "vscode": {
   "interpreter": {
    "hash": "aee8b7b246df8f9039afb4144a1f6fd8d2ca17a180786b69acc140d282b71a49"
   }
  }
 },
 "nbformat": 4,
 "nbformat_minor": 2
}

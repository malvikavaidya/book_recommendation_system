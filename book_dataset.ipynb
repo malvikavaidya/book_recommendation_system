{
 "cells": [
  {
   "cell_type": "code",
   "execution_count": 247,
   "metadata": {},
   "outputs": [],
   "source": [
    "from bs4 import BeautifulSoup\n",
    "import requests\n",
    "import time\n",
    "from urllib.request import urlopen, Request\n",
    "# from selenium import webdriver\n",
    "\n",
    "page = requests.get(\"https://www.goodreads.com/list/show/4093.Best_Books_of_the_Decade_2010s?page=1\")\n",
    "soup = BeautifulSoup(page.content, 'html.parser')\n",
    "f = open(\"myfile2.txt\", \"x\")\n"
   ]
  },
  {
   "cell_type": "code",
   "execution_count": 252,
   "metadata": {},
   "outputs": [
    {
     "name": "stdout",
     "output_type": "stream",
     "text": [
      "['Young Adult', 'Romance', 'Fiction', 'Contemporary', 'Realistic Fiction', 'Young Adult', 'Teen', 'Young Adult', 'Coming Of Age', 'Novels', 'Drama', 'Love']\n",
      "['Young Adult', 'Dystopia', 'Fiction', 'Fantasy', 'Science Fiction', 'Romance', 'Adventure']\n",
      "['Young Adult', 'Dystopia', 'Fiction', 'Fantasy', 'Science Fiction', 'Romance', 'Adventure']\n",
      "['Fiction', 'Mystery', 'Thriller', 'Mystery Thriller', 'Crime', 'Suspense', 'Contemporary']\n",
      "['Science Fiction', 'Fiction', 'Audiobook', 'Adventure', 'Space', 'Adult', 'Science Fiction Fantasy', 'Thriller', 'Humor', 'Adventure', 'Survival']\n"
     ]
    },
    {
     "data": {
      "text/plain": [
       "['The Fault in Our Stars',\n",
       " 'Divergent (Divergent, #1)',\n",
       " 'Mockingjay (The Hunger Games, #3)',\n",
       " 'Gone Girl',\n",
       " 'The Martian']"
      ]
     },
     "execution_count": 252,
     "metadata": {},
     "output_type": "execute_result"
    }
   ],
   "source": [
    "import urllib.request\n",
    "books = soup.find_all('a', class_='bookTitle')\n",
    "headers = {'User-Agent': 'Mozilla/5.0'}\n",
    "## need to go through multiple pages (5??)\n",
    "# for i in range(5):\n",
    "    # need to go to next page (more parsing)\n",
    "    # need next for loop in this for loop\n",
    "\n",
    "# for first page only\n",
    "book_titles = []\n",
    "book_descriptions = []\n",
    "book_genres = []\n",
    "idx = 0\n",
    "# books\n",
    "for i in books:\n",
    "    \n",
    "    link = \"https://goodreads.com\" + i['href']\n",
    "    time.sleep(1)\n",
    "    resp = requests.get(link, headers=headers)\n",
    "\n",
    "    book_soup = BeautifulSoup(resp.content, 'html.parser')\n",
    "    book_descriptions.append(book_soup.find(\"meta\", property=\"og:description\").get('content'))\n",
    "    book_titles.append(book_soup.find(\"meta\", property=\"og:title\").get('content'))\n",
    " \n",
    "\n",
    "    genre_buttons = []\n",
    "    \n",
    "    genre_buttons = book_soup.find_all(class_=\"actionLinkLite bookPageGenreLink\")\n",
    "    if(len(genre_buttons) == 0):\n",
    "        genre_buttons = book_soup.find_all(class_='BookPageMetadataSection__genreButton')\n",
    "    \n",
    "    single_book_genres = []\n",
    "    for j in genre_buttons:\n",
    "         single_book_genres.append(j.text)\n",
    "    print(single_book_genres)\n",
    "    book_genres.append(single_book_genres)\n",
    "    \n",
    "    idx=idx+1\n",
    "    if idx == 5:\n",
    "        break\n",
    "\n",
    "book_titles\n",
    "\n"
   ]
  },
  {
   "cell_type": "code",
   "execution_count": null,
   "metadata": {},
   "outputs": [],
   "source": []
  },
  {
   "cell_type": "code",
   "execution_count": null,
   "metadata": {},
   "outputs": [],
   "source": [
    "# need to go to tbody html tag\n",
    "# go to tr html tag\n",
    "# go to td width=\"100%\" html tag\n",
    "\n",
    "# grab href to go to book page\n",
    "\n",
    "# for each book:\n",
    "\n",
    "    # go to class=\"Formatted\"\n",
    "    # store in book_descriptions\n",
    "    \n",
    "    # class=\"Text Text__title1\"\n",
    "    # store in book_titles\n",
    "    \n",
    "    # 5 times (for 5 genres)\n",
    "    # go to class=\"BookPageMetadataSection__genreButton\"\n",
    "    \n",
    "    \n"
   ]
  }
 ],
 "metadata": {
  "kernelspec": {
   "display_name": "Python 3.10.2 64-bit",
   "language": "python",
   "name": "python3"
  },
  "language_info": {
   "codemirror_mode": {
    "name": "ipython",
    "version": 3
   },
   "file_extension": ".py",
   "mimetype": "text/x-python",
   "name": "python",
   "nbconvert_exporter": "python",
   "pygments_lexer": "ipython3",
   "version": "3.10.2"
  },
  "orig_nbformat": 4,
  "vscode": {
   "interpreter": {
    "hash": "aee8b7b246df8f9039afb4144a1f6fd8d2ca17a180786b69acc140d282b71a49"
   }
  }
 },
 "nbformat": 4,
 "nbformat_minor": 2
}
